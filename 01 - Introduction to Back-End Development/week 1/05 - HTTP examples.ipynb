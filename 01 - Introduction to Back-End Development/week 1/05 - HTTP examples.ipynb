{
 "cells": [
  {
   "cell_type": "markdown",
   "metadata": {},
   "source": [
    "**Author:**       Jensy Gregorio Gómez \n",
    "---------------------------------------\n",
    "**Profession:**  IT Support Analyst  \n",
    "**Date:**         19 Febrero 2024     \n",
    "**Location:**     Vila Isabel, Curitiba/PR  \n",
    "\n",
    "\n",
    "---\n",
    "\n",
    "**Contacto:**\n",
    "\n",
    "- **Email:** [contact@jensygomez.us](mailto:contact@jensygomez.us)\n",
    "- **YouTube:** [Tu Canal de YouTube](https://www.youtube.com/@systechcwb826)\n",
    "- **LinkedIn:** [Tu Perfil de LinkedIn](https://www.linkedin.com/in/jensygomez/)\n",
    "\n",
    "\n"
   ]
  },
  {
   "cell_type": "markdown",
   "metadata": {},
   "source": [
    "\n",
    "# HTTP examples\n",
    "\n",
    "This reading explores the contents of HTTP requests and responses in more depth.\n",
    "\n",
    "### Request Line\n",
    "\n",
    "Every HTTP request begins with the request line.\n",
    "\n",
    "This consists of the HTTP method, the requested resource and the HTTP protocol version.\n",
    "\n",
    "GET /home.html HTTP/1.1\n",
    "\n",
    "In this example, GET is the HTTP method, /home.html is the resource requested and HTTP 1.1 is the protocol used.\n",
    "\n",
    "### HTTP Methods\n",
    "\n",
    "HTTP methods indicate the action that the client wishes to perform on the web server resource.\n",
    "\n",
    "Common HTTP methods are:"
   ]
  },
  {
   "cell_type": "markdown",
   "metadata": {},
   "source": [
    "\n",
    "In this example:\n",
    "- GET is the HTTP method\n",
    "- `/home.html` is the resource requested\n",
    "- HTTP 1.1 is the protocol used.\n",
    "\n",
    "## HTTP Methods\n",
    "\n",
    "HTTP methods indicate the action that the client wishes to perform on the web server resource. Common HTTP methods are:\n",
    "\n",
    "| HTTP Method | Description                                       |\n",
    "|-------------|---------------------------------------------------|\n",
    "| GET         | The client requests a resource on the web server.|\n",
    "| POST        | The client submits data to a resource on the web server.|\n",
    "| PUT         | The client replaces a resource on the web server.|\n",
    "| DELETE      | The client deletes a resource on the web server.|\n",
    "| PATCH       | The client partially updates a resource on the web server.|\n",
    "\n",
    "## HTTP Request Headers\n",
    "\n",
    "After the request line, the HTTP headers are followed by a line break. There are various possibilities when including an HTTP header in the HTTP request. A header is a case-insensitive name followed by a colon and then followed by a value. Common headers are:\n",
    "\n"
   ]
  },
  {
   "cell_type": "markdown",
   "metadata": {},
   "source": [
    "\n",
    "### HTTP Request Headers\n",
    "\n",
    "After the request line, the HTTP headers are followed by a line break.\n",
    "\n",
    "There are various possibilities when including an HTTP header in the HTTP request. A header is a case-insensitive name followed by a: and then followed by a value.\n",
    "\n",
    "Common headers are:"
   ]
  },
  {
   "cell_type": "code",
   "execution_count": null,
   "metadata": {
    "vscode": {
     "languageId": "html"
    }
   },
   "outputs": [],
   "source": [
    "Host: example.com\n",
    "User-Agent: Mozilla/5.0 (Macintosh; Intel Mac OS X 10.9; rv:50.0) Gecko/20100101 Firefox/50.0\n",
    "Accept: /\n",
    "Accept-Language: en\n",
    "Content-type: text/json"
   ]
  },
  {
   "cell_type": "markdown",
   "metadata": {},
   "source": [
    "\n",
    "- The `Host` header specifies the host of the server and indicates where the resource is requested from.\n",
    "- The `User-Agent` header informs the web server of the application that is making the request. It often includes the operating system (Windows, Mac, Linux), version, and application vendor.\n",
    "- The `Accept` header informs the web server what type of content the client will accept as the response.\n",
    "- The `Accept-Language` header indicates the language and optionally the locale that the client prefers.\n",
    "- The `Content-type` header indicates the type of content being transmitted in the request body.\n",
    "\n",
    "## HTTP Request Body\n",
    "\n",
    "HTTP requests can optionally include a request body. A request body is often included when using the HTTP POST and PUT methods to transmit data.\n",
    "\n"
   ]
  },
  {
   "cell_type": "code",
   "execution_count": null,
   "metadata": {
    "vscode": {
     "languageId": "javascript"
    }
   },
   "outputs": [],
   "source": [
    "POST /users HTTP/1.1\n",
    "Host: example.com\n",
    "\n",
    "{\n",
    " \"key1\":\"value1\",\n",
    " \"key2\":\"value2\",\n",
    " \"array1\":[\"value3\",\"value4\"]\n",
    "}"
   ]
  },
  {
   "cell_type": "code",
   "execution_count": null,
   "metadata": {
    "vscode": {
     "languageId": "javascript"
    }
   },
   "outputs": [],
   "source": [
    "PUT /users/1 HTTP/1.1\n",
    "Host: example.com\n",
    "Content-type: text/json\n",
    "\n",
    "{\"key1\":\"value1\"}"
   ]
  },
  {
   "cell_type": "markdown",
   "metadata": {},
   "source": [
    "\n",
    "The line begins with the HTTP protocol version, followed by the status code and a reason phrase. The reason phrase is a textual representation of the status code.\n",
    "\n",
    "## HTTP Status Codes\n",
    "\n",
    "The first digit of an HTTP status code indicates the category of the response: Information, Successful, Redirection, Client Error, or Server Error. The common status codes you'll encounter for each category are:\n",
    "\n",
    "### 1XX Informational\n",
    "\n",
    "| Status Code | Reason Phrase    | Description                                                           |\n",
    "|-------------|------------------|-----------------------------------------------------------------------|\n",
    "| 100         | Continue         | The server received the request headers and should continue to send the request body. |\n",
    "| 101         | Switching Protocols | The client has requested the server to switch protocols and the server has agreed to do so. |\n",
    "\n",
    "### 2XX Successful\n",
    "\n",
    "| Status Code | Reason Phrase    | Description                                                           |\n",
    "|-------------|------------------|-----------------------------------------------------------------------|\n",
    "| 200         | OK               | Standard response returned by the server to indicate it successfully processed the request. |\n",
    "| 201         | Created          | The server successfully processed the request and a resource was created. |\n",
    "| 202         | Accepted         | The server accepted the request for processing but the processing has not yet been completed. |\n",
    "| 204         | No Content       | The server successfully processed the request but is not returning any content. |\n",
    "\n",
    "### 3XX Redirection\n",
    "\n",
    "| Status Code | Reason Phrase    | Description                                                           |\n",
    "|-------------|------------------|-----------------------------------------------------------------------|\n",
    "| 301         | Moved Permanently | This request and all future requests should be sent to the returned location. |\n",
    "| 302         | Found            | This request should be sent to the returned location.                  |\n",
    "\n",
    "### 4XX Client Error\n",
    "\n",
    "| Status Code | Reason Phrase    | Description                                                           |\n",
    "|-------------|------------------|-----------------------------------------------------------------------|\n",
    "| 400         | Bad Request      | The server cannot process the request due to a client error, e.g., invalid request or transmitted data is too large. |\n",
    "| 401         | Unauthorized     | The client making the request is unauthorized and should authenticate.|\n",
    "| 403         | Forbidden        | The request was valid but the server is refusing to process it. This is usually returned due to the client having insufficient permissions for the website, e.g., requesting an administrator action but the user is not an administrator. |\n",
    "| 404         | Not Found        | The server did not find the requested resource.                       |\n",
    "| 405         | Method Not Allowed | The web server does not support the HTTP method used.                 |\n",
    "\n",
    "### 5XX Server Error\n",
    "\n",
    "| Status Code | Reason Phrase    | Description                                                           |\n",
    "|-------------|------------------|-----------------------------------------------------------------------|\n",
    "| 500         | Internal Server Error | A generic error status code given when an unexpected error or condition occurred while processing the request. |\n",
    "| 502         | Bad Gateway      | The web server received an invalid response from the Application Server. |\n",
    "| 503         | Service Unavailable | The web server cannot process the request.                             |\n",
    "\n",
    "## HTTP Response Headers\n",
    "\n",
    "Following the status line, there are optional HTTP response headers followed by a line break. Similar to the request headers, there are many possible HTTP headers that can be included in the HTTP response. Common response headers are:\n",
    "\n"
   ]
  },
  {
   "cell_type": "code",
   "execution_count": null,
   "metadata": {
    "vscode": {
     "languageId": "javascript"
    }
   },
   "outputs": [],
   "source": [
    "Date: Fri, 11 Feb 2022 15:00:00 GMT+2\n",
    "Server: Apache/2.2.14 (Linux)\n",
    "Content-Length: 84\n",
    "Content-Type: text/html"
   ]
  },
  {
   "cell_type": "markdown",
   "metadata": {},
   "source": [
    "\n",
    "-   The Date header specifies the date and time the HTTP response was generated.\n",
    "    \n",
    "-   The Server header describes the web server software used to generate the response.\n",
    "    \n",
    "-   The Content-Length header describes the length of the response.\n",
    "    \n",
    "-   The Content-Type header describes the media type of the resource returned (e.g. HTML document, image, video)."
   ]
  },
  {
   "cell_type": "markdown",
   "metadata": {},
   "source": [
    "### HTTP Response Body\n",
    "\n",
    "Following the HTTP response headers is the HTTP response body. This is the main content of the HTTP response.\n",
    "\n",
    "This can contain images, video, HTML documents and other media types."
   ]
  },
  {
   "cell_type": "code",
   "execution_count": null,
   "metadata": {
    "vscode": {
     "languageId": "javascript"
    }
   },
   "outputs": [],
   "source": [
    "HTTP/1.1 200 OK\n",
    "Date: Fri, 11 Feb 2022 15:00:00 GMT+2\n",
    "Server: Apache/2.2.14 (Linux)\n",
    "Content-Length: 84\n",
    "Content-Type: text/html\n",
    "\n",
    "<html>\n",
    "  <head><title>Test</title></head>\n",
    "  <body>Test HTML page.</body>\n",
    "</html>"
   ]
  }
 ],
 "metadata": {
  "kernelspec": {
   "display_name": "Python 3 (ipykernel)",
   "language": "python",
   "name": "python3"
  },
  "language_info": {
   "codemirror_mode": {
    "name": "ipython",
    "version": 3
   },
   "file_extension": ".py",
   "mimetype": "text/x-python",
   "name": "python",
   "nbconvert_exporter": "python",
   "pygments_lexer": "ipython3",
   "version": "3.12.2"
  }
 },
 "nbformat": 4,
 "nbformat_minor": 2
}
