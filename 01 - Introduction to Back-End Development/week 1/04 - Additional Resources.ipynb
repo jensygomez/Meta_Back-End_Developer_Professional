{
 "cells": [
  {
   "cell_type": "markdown",
   "metadata": {},
   "source": [
    "**Author:**       Jensy Gregorio Gómez \n",
    "---------------------------------------\n",
    "**Profession:**  IT Support Analyst  \n",
    "**Date:**         19 Febrero 2024     \n",
    "**Location:**     Vila Isabel, Curitiba/PR  \n",
    "\n",
    "\n",
    "---\n",
    "\n",
    "**Contacto:**\n",
    "\n",
    "- **Email:** [contact@jensygomez.us](mailto:contact@jensygomez.us)\n",
    "- **YouTube:** [Tu Canal de YouTube](https://www.youtube.com/@systechcwb826)\n",
    "- **LinkedIn:** [Tu Perfil de LinkedIn](https://www.linkedin.com/in/jensygomez/)\n",
    "\n",
    "\n"
   ]
  },
  {
   "cell_type": "markdown",
   "metadata": {},
   "source": [
    "\n",
    "\n",
    "# Additional Resources\n",
    "\n",
    "**Learn more** Here is a list of resources that may be helpful as you continue your learning journey.\n",
    "\n",
    "**What is a Web Server? (NGINX)**\n",
    "\n",
    "[https://www.nginx.com/resources/glossary/web-server/](https://www.nginx.com/resources/glossary/web-server/)\n",
    "\n",
    "**What is a Web Browser? (Mozilla)**\n",
    "\n",
    "[https://www.mozilla.org/en-US/firefox/browsers/what-is-a-browser/](https://www.mozilla.org/en-US/firefox/browsers/what-is-a-browser/)\n",
    "\n",
    "**Who invented the Internet? And why? (Kurzgesagt)**\n",
    "\n",
    "[https://youtu.be/21eFwbb48sE](https://youtu.be/21eFwbb48sE)\n",
    "\n",
    "**What is Cloud Computing? (Amazon)**\n",
    "\n",
    "[https://youtu.be/mxT233EdY5c](https://youtu.be/mxT233EdY5c)\n",
    "\n",
    "**Browser Engines (Wikipedia)**\n",
    "\n",
    "[https://en.wikipedia.org/wiki/Browser_engine](https://en.wikipedia.org/wiki/Browser_engine)"
   ]
  }
 ],
 "metadata": {
  "kernelspec": {
   "display_name": "Python 3 (ipykernel)",
   "language": "python",
   "name": "python3"
  },
  "language_info": {
   "codemirror_mode": {
    "name": "ipython",
    "version": 3
   },
   "file_extension": ".py",
   "mimetype": "text/x-python",
   "name": "python",
   "nbconvert_exporter": "python",
   "pygments_lexer": "ipython3",
   "version": "3.12.2"
  }
 },
 "nbformat": 4,
 "nbformat_minor": 2
}
