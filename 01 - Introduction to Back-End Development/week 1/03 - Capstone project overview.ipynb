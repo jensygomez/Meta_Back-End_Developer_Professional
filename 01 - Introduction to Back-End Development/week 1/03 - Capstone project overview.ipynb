{
 "cells": [
  {
   "cell_type": "markdown",
   "metadata": {},
   "source": [
    "**Author:**       Jensy Gregorio Gómez \n",
    "---------------------------------------\n",
    "**Profession:**  IT Support Analyst  \n",
    "**Date:**         18 Febrero 2024     \n",
    "**Location:**     Vila Isabel, Curitiba/PR  \n",
    "\n",
    "\n",
    "---\n",
    "\n",
    "**Contacto:**\n",
    "\n",
    "- **Email:** [contact@jensygomez.us](mailto:contact@jensygomez.us)\n",
    "- **YouTube:** [Tu Canal de YouTube](https://www.youtube.com/@systechcwb826)\n",
    "- **LinkedIn:** [Tu Perfil de LinkedIn](https://www.linkedin.com/in/jensygomez/)\n",
    "\n",
    "\n"
   ]
  },
  {
   "cell_type": "markdown",
   "metadata": {},
   "source": [
    "# Capstone project overview\n",
    "\n",
    "You’ve just begun your coding journey on the Meta back-end developer program. By the end of this program, you'll put your new skills to work by completing a real-world portfolio project, where you'll create your own dynamic web application. Completing this project will help you to validate the knowledge and skills that you have gained.\n",
    "\n",
    "## What you will be able to develop\n",
    "\n",
    "You will build this web app yourself in React and use all of the excellent tools available. Putting your newly acquired skills into practice, you will demonstrate how to build and program part of a responsive web app.\n",
    "\n",
    "It includes the following elements:\n",
    "\n",
    "-   A home screen with information about the restaurant.\n",
    "    \n",
    "-   A table reservation system.\n",
    "    \n",
    "-   A profile screen for users to enter their personal details.\n",
    "    \n",
    "-   Navigation that enables users to move between parts of the web app.\n",
    "    \n",
    "\n",
    "## Project preview\n",
    "\n",
    "In the video below, you can take a trip into the future and get a preview of what you'll be able to create with your new set of skills at the end of this program."
   ]
  },
  {
   "cell_type": "markdown",
   "metadata": {},
   "source": [
    "<video width=\"640\" height=\"360\" controls>\n",
    "  <source src=\"https://d3c33hcgiwev3.cloudfront.net/GEwuO0sfQku-tK1JGcnoeQ_dc0182683d0c4c07ac6b9a5770925fe1_FE-C8M4L1-Item-5---Solution-functionality-.mp4?Expires=1708387200&Signature=aSgjViAntlgmYnlExSIt6C6d97VUeAxBikf~ceeS1Xr6qpgOZr3P0jGpsEyxqP9g3Rqa2r8MNCknY2qucqXMYDK3cZvgYdzsi2DhNyAEdqZafWtCQ9AjDUNnFwFibB01-Dx2OL9O5sKaTj8Sw~~qCKCF7Rux-~z99~s17VTj6UE_&Key-Pair-Id=APKAJLTNE6QMUY6HBC5A\" type=\"video/mp4\">\n",
    "  Tu navegador no soporta el elemento de video.\n",
    "</video>\n"
   ]
  },
  {
   "cell_type": "markdown",
   "metadata": {},
   "source": [
    "\n",
    "That's what you'll be able to accomplish by the end of this Back-end development program. Pretty cool, right? It’s a modern application for the Little Lemon restaurant and the best thing about this project is that it’s part of your portfolio and you'll be able to showcase it to any prospective employer as proof of your abilities. It shows the multiple skills you will learn during this program.\n",
    "\n",
    "## Conclusion\n",
    "\n",
    "In this reading, you explored a project for the Little Lemon restaurant that demonstrates the kind of development you will accomplish towards the end of the program.\n",
    "\n",
    "Best of luck in your coding journey.\n"
   ]
  }
 ],
 "metadata": {
  "kernelspec": {
   "display_name": "Python 3 (ipykernel)",
   "language": "python",
   "name": "python3"
  },
  "language_info": {
   "codemirror_mode": {
    "name": "ipython",
    "version": 3
   },
   "file_extension": ".py",
   "mimetype": "text/x-python",
   "name": "python",
   "nbconvert_exporter": "python",
   "pygments_lexer": "ipython3",
   "version": "3.12.2"
  }
 },
 "nbformat": 4,
 "nbformat_minor": 2
}
